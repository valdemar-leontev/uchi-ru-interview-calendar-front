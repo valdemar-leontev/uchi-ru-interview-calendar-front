{
 "cells": [
  {
   "cell_type": "code",
   "execution_count": null,
   "metadata": {
    "dotnet_interactive": {
     "language": "csharp"
    },
    "polyglot_notebook": {
     "kernelName": "csharp"
    },
    "vscode": {
     "languageId": "polyglot-notebook"
    }
   },
   "outputs": [],
   "source": [
    "const getDayOfTheWeek = (date) => { \n",
    "    switch (date.getDay()) {\n",
    "      case 0:\n",
    "        console.log(\"Sunday\");\n",
    "        break;\n",
    "      case 1:\n",
    "        console.log(\"Monday\");\n",
    "        break;\n",
    "      case 2:\n",
    "        console.log(\"Tuesday\");\n",
    "        break;\n",
    "      case 3:\n",
    "        console.log(\"Wednesday\");\n",
    "        break;\n",
    "      case 4:\n",
    "        console.log(\"Thursday\");\n",
    "        break;\n",
    "      case 5:\n",
    "        console.log(\"Friday\");\n",
    "        break;\n",
    "      case 6:\n",
    "        console.log(\"Saturday\");\n",
    "        break;    \n",
    "    }\n",
    "}\n",
    "\n",
    "getDayOfTheWeek( new Date());\n",
    "\n"
   ]
  }
 ],
 "metadata": {
  "language_info": {
   "name": "python"
  },
  "orig_nbformat": 4
 },
 "nbformat": 4,
 "nbformat_minor": 2
}
